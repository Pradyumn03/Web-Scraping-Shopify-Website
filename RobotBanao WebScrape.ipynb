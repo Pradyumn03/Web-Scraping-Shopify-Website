{
 "cells": [
  {
   "cell_type": "markdown",
   "id": "8f49799b",
   "metadata": {},
   "source": [
    "#  Web Scraping From Shopify Ecommerce Website"
   ]
  },
  {
   "cell_type": "markdown",
   "id": "0fc0d661",
   "metadata": {},
   "source": [
    "In this notebook, we are extracting all products data from www.robotbano.com. \n",
    "The data included are product titles and product price.\n",
    "\n",
    "#### Python Packages Used :-\n",
    "\n",
    "> Requests -- To request data from the URL.\n",
    "\n",
    "> BeautifulSoup -- To parse content and extract data using HTML tags from the website postings.\n",
    "\n",
    "> Pandas -- To process data and export the dataframe into .csv file.\n",
    "\n",
    "> URLJoin -- To process multiple page urls to deal with pagination.\n",
    "\n",
    "\n"
   ]
  },
  {
   "cell_type": "code",
   "execution_count": 1,
   "id": "1b3abebf",
   "metadata": {},
   "outputs": [],
   "source": [
    "# import required libraries\n",
    "\n",
    "import pandas as pd\n",
    "import requests\n",
    "from bs4 import BeautifulSoup\n",
    "from urllib.parse import urljoin"
   ]
  },
  {
   "cell_type": "code",
   "execution_count": 17,
   "id": "37bf3ba1",
   "metadata": {},
   "outputs": [],
   "source": [
    "# defining base url\n",
    "\n",
    "url = 'https://robotbanao.com/collections/all?page=1'"
   ]
  },
  {
   "cell_type": "code",
   "execution_count": 19,
   "id": "7708a3c3",
   "metadata": {},
   "outputs": [
    {
     "name": "stdout",
     "output_type": "stream",
     "text": [
      "https://robotbanao.com/collections/all?page=1\n",
      "https://robotbanao.com/collections/all?page=2\n",
      "https://robotbanao.com/collections/all?page=3\n",
      "https://robotbanao.com/collections/all?page=4\n",
      "https://robotbanao.com/collections/all?page=5\n",
      "https://robotbanao.com/collections/all?page=6\n",
      "https://robotbanao.com/collections/all?page=7\n",
      "https://robotbanao.com/collections/all?page=8\n",
      "https://robotbanao.com/collections/all?page=9\n",
      "https://robotbanao.com/collections/all?page=10\n",
      "https://robotbanao.com/collections/all?page=11\n",
      "https://robotbanao.com/collections/all?page=12\n",
      "https://robotbanao.com/collections/all?page=13\n",
      "https://robotbanao.com/collections/all?page=14\n",
      "https://robotbanao.com/collections/all?page=15\n",
      "https://robotbanao.com/collections/all?page=16\n",
      "https://robotbanao.com/collections/all?page=17\n",
      "https://robotbanao.com/collections/all?page=18\n",
      "https://robotbanao.com/collections/all?page=19\n",
      "[{'Name': '1 uF 50V Electrolytic Capacitor', 'Price': '3.00'}, {'Name': '1-8S LiPo Battery Voltage Tester Low Volt Alarm Buzzer And LED', 'Price': '165.00'}, {'Name': '10 ohm Resistor - 1/4 Watt - 5 Pieces Pack', 'Price': '2.00'}, {'Name': '10 Pieces of Double Ended Crocodile Clips Cable Alligator Clips Wire Testing, Multi Color', 'Price': '128.00'}, {'Name': '10 uF 25V Electrolytic Capacitor', 'Price': '3.00'}, {'Name': '100 Pcs 5mm Ultra Bright LEDs Set (20 LEDs x White, Yellow, Red, Green, Blue)', 'Price': '453.00'}, {'Name': '100 uF 10V Electrolytic Capacitor', 'Price': '3.00'}, {'Name': '10000W SCR 110V/220V Voltage Regulator Motor Speed Controller Dimmer Thermostat', 'Price': '958.00'}, {'Name': '1000KV Brushless DC Motor & 30A Simonk ESC With 1045 Propeller Set', 'Price': '3723.00'}, {'Name': '100K NTC Thermistor Temperature Sensor with 1 Meter Wire for 3D Printer', 'Price': '65.00'}, {'Name': '100K Ohm 0.25W Metal Film Resistor', 'Price': '2.00'}, {'Name': '100R Ohm 0.25W Metal Film Resistor', 'Price': '2.00'}, {'Name': '1045/1045R CW CCW Propeller Black, Set of 5', 'Price': '346.00'}, {'Name': '1045/1045R CW CCW Propeller, Black', 'Price': '73.00'}, {'Name': '1045/1045R CW CCW Propeller, Black, Set of 2', 'Price': '141.00'}, {'Name': '10K Electronic Sliding Potentiometer Module Adjustable Potentiometer Module', 'Price': '150.00'}, {'Name': '10K Ohm 0.25W Metal Film Resistor', 'Price': '2.00'}, {'Name': '10R Ohm 0.25W Metal Film Resistor', 'Price': '2.00'}, {'Name': '1200W 20A DC Converter Boost Step-up 8-60V To 12-83V Power Supply Module', 'Price': '1080.00'}, {'Name': '120K Ohm 0.25W Metal Film Resistor', 'Price': '2.00'}, {'Name': '120R Ohm 0.25W Metal Film Resistor', 'Price': '2.00'}, {'Name': '12K Ohm 0.25W Metal Film Resistor', 'Price': '2.00'}, {'Name': '12V 2A Power supply Adapter charger with 5.5mm DC Plug Adapter', 'Price': '290.00'}, {'Name': '12V SPDT PCB Mount Sugar Cube Relay Switch', 'Price': '25.00'}, {'Name': '12x12x12mm 4 Pin PCB Momentary Tactile Tact Push Button Switch 10PCS', 'Price': '48.00'}, {'Name': '12x12x7.3mm Tactile Push Button Switch', 'Price': '7.00'}, {'Name': '150K Ohm 0.25W Metal Film Resistor', 'Price': '2.00'}, {'Name': '150R Ohm 0.25W Metal Film Resistor', 'Price': '2.00'}, {'Name': '150W DC-DC Boost Converter 10-32V to 12-35V 6A Step Up Voltage Power Supply Module', 'Price': '237.00'}, {'Name': '15K Ohm 0.25W Metal Film Resistor', 'Price': '2.00'}, {'Name': '16 Pin DIP IC Socket Base Adaptor (IC Base)', 'Price': '5.00'}, {'Name': '17 Stepper Motor, 4 Lead Stepper Motor 17 Motor with 1m Cable 42BYGH 38MM 1.5A (17HS4401S) for CNC XYZ 3D Printer', 'Price': '0.00'}, {'Name': '180 ohm Resistor - 1/4 Watt', 'Price': '3.00'}, {'Name': '180K Ohm 0.25W Metal Film Resistor', 'Price': '2.00'}, {'Name': '18650 battery 1200 mah rechargeable lithium-ion battery', 'Price': '115.00'}, {'Name': '18K Ohm 0.25W Metal Film Resistor', 'Price': '2.00'}, {'Name': '1K Ohm 0.25W Metal Film Resistor', 'Price': '2.00'}, {'Name': '1K5 Ohm 0.25W Metal Film Resistor', 'Price': '2.00'}, {'Name': '1K8 Ohm 0.25W Metal Film Resistor', 'Price': '2.00'}, {'Name': '1M Ohm 0.25W Metal Film Resistor', 'Price': '2.00'}, {'Name': '1M USB to Micro USB Cable wire for NodeMCU', 'Price': '48.00'}, {'Name': '1N4007 1W Diode', 'Price': '5.00'}, {'Name': '1N4148 Diode', 'Price': '2.00'}, {'Name': '1R Ohm 0.25W Metal Film Resistor', 'Price': '2.00'}, {'Name': '1S 18650 Li-po Lithium Battery Capacity Indicator Module', 'Price': '108.00'}, {'Name': '2 Axis Pan Tilt Brackets For SG90 and MG90 Servo Motor', 'Price': '124.00'}, {'Name': '2 Pcs 6x8 cm Double Sided Universal PCB Prototype Board', 'Price': '90.00'}, {'Name': '2.2k Ohm 0.25W Resistor', 'Price': '1.00'}, {'Name': '2.4 inch TFT LCD Touch Display Shield for Arduino Uno 240x320 65K RGB Color Display Module, Red', 'Price': '678.00'}, {'Name': '20pcs 20cm Male to Female Breadboard Dupont Wires Jumper Cables for Arduino Raspberry Pi', 'Price': '50.00'}, {'Name': '22 Ohm 0.25W Metal Film Resistor (Pack of 100)', 'Price': '26.00'}, {'Name': '220K Ohm 0.25W Metal Film Resistor', 'Price': '2.00'}, {'Name': '220R Ohm 0.25W Metal Film Resistor', 'Price': '2.00'}, {'Name': '22K Ohm 0.25W Metal Film Resistor', 'Price': '2.00'}, {'Name': '22R Ohm 0.25W Metal Film Resistor', 'Price': '2.00'}, {'Name': '25 Pcs/set Tactile Switch Push Button Micro Momentary Tact Assortment Kit', 'Price': '146.00'}, {'Name': '250 Pcs Resistor Kit - 25 Values', 'Price': '110.00'}, {'Name': '270R Ohm 0.25W Metal Film Resistor', 'Price': '2.00'}, {'Name': '27K Ohm 0.25W Metal Film Resistor', 'Price': '2.00'}, {'Name': '28ybj-48 DC 5V 4 Phase 5 Wire Stepper Motor With ULN2003 Driver Board', 'Price': '152.00'}, {'Name': '2N2222A NPN Bipolar Transistor', 'Price': '4.00'}, {'Name': '2N3904 NPN General Purpose Transistor', 'Price': '3.00'}, {'Name': '2N3906 PNP General Purpose Transistor', 'Price': '2.00'}, {'Name': '30A Brushless DC Electronic Speed Controller ESC (Set of 4)', 'Price': '2183.00'}, {'Name': '30A Brushless DC ESC Electronic speed controller', 'Price': '555.00'}, {'Name': '30A Brushless DC ESC Simonk Electronic speed controller', 'Price': '565.00'}, {'Name': '30W Mini-360 DC-DC Buck Converter Step Down Power Module 4.75V-23V to 1V-17V', 'Price': '64.00'}, {'Name': '320PCS M3 Male Female Nylon Hex Spacer Standoff Screw Nut Threaded Pillar PCB Motherboard Assorted Assortment Kit', 'Price': '0.00'}, {'Name': '33 Ohm 0.25W Metal Film Resistor (Pack of 100)', 'Price': '31.00'}, {'Name': '3300 mAH LiPo Li-Polymer Battery', 'Price': '2234.00'}, {'Name': '330K Ohm 0.25W Metal Film Resistor', 'Price': '2.00'}, {'Name': '330K ohm Resistor 1/4 Watt with 1% tolerance', 'Price': '2.00'}, {'Name': '330R Ohm 0.25W Metal Film Resistor', 'Price': '2.00'}, {'Name': '33K Ohm 0.25W Resistor', 'Price': '2.00'}, {'Name': '33R Ohm 0.25W Metal Film Resistor', 'Price': '2.00'}, {'Name': '360 Rotary Decoder Encoder Module KY-040 Arduino Compatible Or Speed and Direction Measurement Sensor Module', 'Price': '85.00'}, {'Name': '37 in 1 Ultimate Sensor Modules Kit for Arduino Uno R3, Mega 2560, Raspberry Pi and All Microcontrollers, White', 'Price': '1344.00'}, {'Name': '390 ohm Resistor - 1/4 Watt', 'Price': '3.00'}, {'Name': '390K Ohm 0.25W Metal Film Resistor', 'Price': '2.00'}, {'Name': '390K ohm Resistor - 1/4 Watt', 'Price': '2.00'}, {'Name': '390R Ohm 0.25W Metal Film Resistor', 'Price': '2.00'}, {'Name': '3D Printer Parts Spring For Heated Bed MK3 CR-10 Hotbed Imported', 'Price': '34.00'}, {'Name': '3D Printer THSL-400-8D Lead Screw Dia 8MM Pitch 2mm Lead 4mm Length 400mm with Copper Nut', 'Price': '320.00'}, {'Name': '3dBi Magnetic Mount Antenna for GSM FCT Device (10 Feet/3 Meter Long)', 'Price': '138.00'}, {'Name': '3K3 Ohm 0.25W Metal Film Resistor', 'Price': '2.00'}, {'Name': '3V - 5V TCS230 TCS3200 Detector Module Colour Recognition Sensor for Arduino, Arm and Other MCU', 'Price': '577.00'}, {'Name': '4 Channel Isolated 5V 10A Relay Module With Optocoupler For PIC AVR DSP ARM Arduino', 'Price': '165.00'}, {'Name': '4 Pcs x A2212 1400KV Brushless DC Motor and 4 Pcs x 30A ESC With 2 Sets x 1045 Propeller', 'Price': '4715.00'}, {'Name': '4 Pcs x Wheel for BO Motor - 65mm Rubber Wheels, Yellow (BO Wheels)', 'Price': '149.00'}, {'Name': '4 Way IR 4 Channel Infrared Detector Transmission Line Sensor Arduino', 'Price': '177.00'}, {'Name': '4 x DC BO Dual Shaft Smart Car Robot Gear Motor For Arduino, (Pack of 4)', 'Price': '238.00'}, {'Name': '4 x Dual Shaft BO Motor With Wheel, Black and Yellow, 4 Sets (Combo)', 'Price': '347.00'}, {'Name': '4.7k Ohm 0.25W Resistor', 'Price': '1.00'}, {'Name': '40 Pin 2.54mm Male and Female Pin Headers/Berg Strips for Arduino (Pack of 15 Each)', 'Price': '266.00'}, {'Name': '40 Pin Single Row Female Pin Header Connector Strip (2.54Mm Pitch) , Black, Pack of 10', 'Price': '195.00'}, {'Name': '40-pin Strip Dual Male Header PITCH 2.54MM', 'Price': '11.00'}, {'Name': '400 Tie Points Solderless Self-Adhesive Breadboard Nickel Plated Bread Board Or Solderless Pieces PCB Circuit Test Board, Project Board for DIY Projects', 'Price': '62.00'}, {'Name': '4000W 220V AC SCR Voltage Regulator Dimmer Electric Motor Speed Controller, Silver', 'Price': '380.00'}, {'Name': '4010 Cooling Fan For 3D Printer Parts DC 12V Size 2pin', 'Price': '78.00'}, {'Name': '40pcs 30cm Female to Female Breadboard Dupont Wires Jumper Cables for Arduino Raspberry Pi', 'Price': '73.00'}, {'Name': '40pcs 30cm Male to Female Breadboard Dupont Wires Jumper Cables for Arduino Raspberry Pi', 'Price': '60.00'}, {'Name': '40pcs 30cm Male to Male Breadboard Dupont Wires Jumper Cables for Arduino Raspberry Pi', 'Price': '71.00'}, {'Name': '47 Ohm 0.25W Metal Film Resistor (Pack of 100)', 'Price': '36.00'}, {'Name': '470 Ohm 0.25W Resistor', 'Price': '3.00'}, {'Name': '470K Ohm 0.25W Metal Film Resistor', 'Price': '2.00'}, {'Name': '470K ohm Resistor - 1/4 Watt', 'Price': '2.00'}, {'Name': '470R Ohm 0.25W Metal Film Resistor', 'Price': '2.00'}, {'Name': '47K Ohm 0.25W Metal Film Resistor', 'Price': '2.00'}, {'Name': '47R Ohm 0.25W Metal Film Resistor', 'Price': '2.00'}, {'Name': '4K7 Ohm 0.25W Metal Film Resistor', 'Price': '2.00'}, {'Name': '4x6 PCB General Purpose Printed Circuit Zero Board)', 'Price': '24.00'}, {'Name': '5 m 10 Core Rainbow Color Flat Ribbon Wire Cable Electronic Components Electronic Hobby Kit', 'Price': '159.00'}, {'Name': '5 X PIR Motion Sensor Detector Module HC-SR501 (HCSR501) Pack of 5', 'Price': '456.00'}, {'Name': '5 x TowerPro SG90 Micro Servo Motor, Blue ( 5 Pcs )', 'Price': '766.00'}, {'Name': '5.1V Zener Diode - 250mW', 'Price': '1.00'}, {'Name': '5.6K ohm Resistor - 1/4 Watt', 'Price': '3.00'}, {'Name': '50Kg Pressure Micro Scale Weighing Resistance Strain Half-bridge Experiments Body Scale Load Cell Sensor', 'Price': '66.00'}, {'Name': '56 ohm Resistor - 1/4 Watt - 5 Pieces Pack', 'Price': '2.00'}, {'Name': '560 ohm Resistor - 1/4 watt', 'Price': '3.00'}, {'Name': '560K Ohm 0.25W Metal Film Resistor', 'Price': '2.00'}, {'Name': '560k ohm Resistor - 1/4 watt', 'Price': '3.00'}, {'Name': '560R Ohm 0.25W Metal Film Resistor', 'Price': '2.00'}, {'Name': '56K Ohm 0.25W Metal Film Resistor', 'Price': '2.00'}, {'Name': '56K ohm Resistor - 1/4 watt', 'Price': '3.00'}, {'Name': '56R Ohm 0.25W Metal Film Resistor', 'Price': '2.00'}, {'Name': '5K Ohm 0.25W Metal Film Resistor', 'Price': '2.00'}, {'Name': '5K ohm Variable Resistor - Trimpot (RM065 Package)', 'Price': '6.00'}, {'Name': '5K6 Ohm 0.25W Metal Film Resistor', 'Price': '2.00'}, {'Name': '5mm Multicolor Slow Blinking Dynamics LED Diode Lights (Flashing Round DC) Bright Lighting Bulb Lamps Electronics Components Flicker Light Emitting Diodes - 250 Pieces', 'Price': '250.00'}, {'Name': '5mm RGB Multicolor Slow Blinking Dynamics LED Diode Lights (Flashing Round DC) Bright Lighting Bulb Lamps Electronics Components Flicker Light Emitting Diodes - 20 Pieces Each Color', 'Price': '202.00'}, {'Name': '5Pcs A4988 Stepper Motor Driver with Heat Sink for 3D Printer', 'Price': '450.00'}, {'Name': '5V 2 Channel Relay Module Control Board With Optocoupler for Arduino', 'Price': '90.00'}, {'Name': '5v 28byj-48 Stepper Motor and Uln2003 Stepper Motor Drive Test Module Board, Multi Colour', 'Price': '212.00'}, {'Name': '5V 4 Channel Relay Control Board Module With Optocoupler, 4 Way Relay Module for Arduino DSP AVR PIC ARM, Blue', 'Price': '201.00'}, {'Name': '5V 8 Channel Relay Control Panel PLC Relay Module With Optocoupler, 8 Way (8 CH)Relay Module for Arduino', 'Price': '379.00'}, {'Name': '5V Dual-Channel Relay Module Shield With Arduino', 'Price': '96.00'}, {'Name': '5V One Channel (1 CH ) Relay Board For Arduino', 'Price': '57.00'}, {'Name': '6 In 1 Mini, Pir, Ultrasonic, Dht 11 Temperature, Ir Proximity1 Ultimate Sensor Modules Kit With Sound SensorUno R3, Mega 2560, Raspberry Pi and All Microcontrollers, Multi Colour', 'Price': '578.00'}, {'Name': '6-30V 1-Channel Power Relay Module with Adjustable Timing Cycle', 'Price': '280.00'}, {'Name': '6.8k Ohm 0.25W Resistor', 'Price': '3.00'}, {'Name': '60 Watt Glue Gun With 5 Glue Sticks Standard Temperature Corded Glue Gun', 'Price': '285.00'}, {'Name': '65 PIECES MALE TO MALE JUMPER WIRE', 'Price': '116.00'}, {'Name': '68 Ohm 0.25W Resistor', 'Price': '3.00'}, {'Name': '680 Ohm 0.25W Resistor', 'Price': '3.00'}, {'Name': '680K Ohm 0.25W Metal Film Resistor', 'Price': '2.00'}, {'Name': '680K ohm Resistor - 1/4 Watt', 'Price': '3.00'}, {'Name': '680R Ohm 0.25W Metal Film Resistor', 'Price': '2.00'}, {'Name': '68k Ohm 0.25W Resistor', 'Price': '3.00'}, {'Name': '68R Ohm 0.25W Metal Film Resistor', 'Price': '2.00'}, {'Name': '6K8 Ohm 0.25W Metal Film Resistor', 'Price': '2.00'}, {'Name': '6V - 12V DC 2 X Toy Hobby DC Motor 27x33mm + 60mm 2 X Blade Fan Propeller Prop Shaft DC Motor Hobby DIY Science Projects', 'Price': '108.00'}, {'Name': '750 ohm Resistor - 1/4 Watt', 'Price': '3.00'}, {'Name': '750R Ohm 0.25W Metal Film Resistor', 'Price': '2.00'}, {'Name': '8 In 1 Mini Sensor Kit with PIR, Ultrasonic Sensor, IR Sensor, LDR, Rain Sensor, Sound Sensor, Mq- 2 Gas Sensor, DHT 11', 'Price': '796.00'}, {'Name': '82 ohm Resistor - 1/4 Watt', 'Price': '3.00'}, {'Name': '820 ohm Resistor - 1/4 Watt', 'Price': '3.00'}, {'Name': '820K Ohm 0.25W Metal Film Resistor', 'Price': '2.00'}, {'Name': '820K ohm Resistor - 1/4 Watt', 'Price': '3.00'}, {'Name': '820R Ohm 0.25W Metal Film Resistor', 'Price': '2.00'}, {'Name': '82K Ohm 0.25W Metal Film Resistor', 'Price': '2.00'}, {'Name': '82K ohm Resistor - 1/4 Watt', 'Price': '3.00'}, {'Name': '82R Ohm 0.25W Metal Film Resistor', 'Price': '10.00'}, {'Name': '9 In 1 Mini Sensor Kit Pir, Ultrasonic Sensor, IR Sensor, LDR, Rain Sensor, Sound Sensor, Mq-2 Gas Sensor, DHT 11 and Joystick Module', 'Price': '755.00'}, {'Name': '9V Battery Snap-on Connector Clip with Wire Holder Cable Leads Cord - Pack of 10', 'Price': '70.00'}, {'Name': 'A2212 1000KV Brushless DC Motor', 'Price': '577.00'}, {'Name': 'A2212 1000KV Brushless DC Motor (Set of 4)', 'Price': '2290.00'}, {'Name': 'A2212 1000KV Brushless DC Motor With 30A ESC', 'Price': '1015.00'}, {'Name': 'A2212 1000KV Brushless DC Motor With 30A ESC (Set of 4)', 'Price': '4260.00'}, {'Name': 'A2212 1400KV BLDC Motor (Set of 4)', 'Price': '2290.00'}, {'Name': 'A2212 1400KV BLDC Motor And 30A ESC (Set of 4)', 'Price': '4200.00'}, {'Name': 'A2212 1400KV BLDC Motor and 30A ESC Electric Speed Controller', 'Price': '1168.00'}, {'Name': 'A2212 1400KV BLDC Motor and 30A ESC Electric Speed Controller with 1045 Propeller Set', 'Price': '1198.00'}, {'Name': 'A2212 1400KV Brushless DC Motor', 'Price': '577.00'}, {'Name': 'A2212 1400KV Brushless DC Motor (4 Pcs) And 30A ESC (Simonk) (4 Pcs) With 1045 Propeller (2 Set)', 'Price': '4415.00'}, {'Name': 'A2212 1800 KV BLDC Motor', 'Price': '577.00'}, {'Name': 'A2212 2200KV BLDC Brushless Motor', 'Price': '583.00'}, {'Name': 'A4988 Stepper MotorDriver with Heatsink, 2A', 'Price': '126.00'}, {'Name': 'Acrylic Case For XH-W1209 Temperature Control Module', 'Price': '51.00'}, {'Name': 'ADXL335 Module 5V 3-axis Analog Output Accelerometer', 'Price': '438.00'}, {'Name': 'Ai Thinker NodeMCU-32s – ESP32 ESP-WROOM-32 Development Board', 'Price': '790.00'}, {'Name': 'Aluminum Alloy Heatsink Armor Case with Dual Cooling Fan for Raspberry Pi 4', 'Price': '870.00'}, {'Name': 'Aluminum Heatsink Case for Raspberry Pi 4 - 4 Set', 'Price': '48.00'}, {'Name': 'AMS1117-3.3 Voltage Regulator Step Down Power Supply Module', 'Price': '34.00'}, {'Name': 'Anti-Vibration Shock Absorber for APM/KK/MWC/PixHawk', 'Price': '169.00'}, {'Name': 'APM 2.8 Flight Controller 2.5 2.6 Upgraded with Built-in Compass for Multi copter RC Drone Aircraft', 'Price': '3135.00'}, {'Name': 'Arduino CNC Shield V3 Engraving Machine Expansion Board A4988 Driver for Arduino Compatible 3D Printer', 'Price': '166.00'}, {'Name': 'Arduino D1 Mini V2 NodeMcu 4M Bytes Lua WIFI Internet Development Board Based On ESP8266 4MB FLASH ESP-12S Chip', 'Price': '293.00'}, {'Name': 'Arduino Mega 2560 R3 ATmega2560-16AU Board with USB Cable', 'Price': '2399.00'}, {'Name': 'Arduino Nano V3 ATMEGA328 Compatible Board With Soldered Header & Cable| Arduino projects (Soldered)', 'Price': '792.00'}, {'Name': 'Arduino Nano V3 ATMEGA328 Compatible Board With Soldered Header For Arduino projects (Soldered) W/O Cable', 'Price': '656.00'}, {'Name': 'Arduino Nano V3 ATMEGA328 Compatible Board With Un-Soldered Header (W/O Cable))', 'Price': '816.00'}, {'Name': 'ARDUINO TRAFFIC LIGHT KIT', 'Price': '1068.00'}, {'Name': 'Arduino Uno R3 Development Board ATmega328P With USB Cable', 'Price': '1179.00'}, {'Name': 'Arduino Uno R3 Development Microcontroller Board SMD Version With Cable, Blue, Pack of 1', 'Price': '636.00'}, {'Name': 'ARDUINO UNO/MEGA2560 CABLE', 'Price': '51.00'}, {'Name': 'AVR ATMEGA USBASP PROGRAMMER USBISP ISP For ATMEL ATTINY Microcontrollers 3.3V/5V With Cable', 'Price': '277.00'}, {'Name': 'B20 BUZZER', 'Price': '37.00'}, {'Name': 'Basic Breadboard Kit With Lcd 16x2, Mb102 Breadboard, Power Supply and Jumper Wire, Multi Colour', 'Price': '479.00'}, {'Name': 'Basic Starter Science kit for iduino with UNO R3, Breadboard, LED, Resistor,Jumper Wires and Power Supply', 'Price': '2030.00'}, {'Name': 'BC546 NPN General Purpose Transistor', 'Price': '3.00'}, {'Name': 'BC547 NPN DIP Transistor', 'Price': '2.00'}, {'Name': 'BC548 NPN General Purpose Transistor', 'Price': '2.00'}, {'Name': 'BC548 Transistor NPN TO-92 30V 100ma General Purpose Transistors', 'Price': '4.00'}, {'Name': 'BC557 PNP General Purpose Transistor', 'Price': '2.00'}, {'Name': 'BC557 PNP General Purpose Transistor 45V 100mA', 'Price': '9.00'}, {'Name': 'BD139 NPN Bipolar Medium Power Transistor', 'Price': '10.00'}, {'Name': 'BD140 PNP Transistor', 'Price': '7.00'}, {'Name': 'BMP280 Barometric Pressure and Altitude Sensor I2C/SPI Module', 'Price': '152.00'}, {'Name': 'Breadboard Kit With 840 Points Bread or Solderless Circuit Test Board With Jumper Wires Set ( M-M, F-F, M-F) 120pcs', 'Price': '250.00'}, {'Name': 'Burton Custom Freestyle 151', 'Price': '0.00'}, {'Name': 'Capacitor Kit: 18 Values Ultimate Capacitor Kit (Pack of 555)', 'Price': '496.00'}, {'Name': 'CC3D 32 bits EVO Flight Controller For RC Multirotor', 'Price': '1674.00'}, {'Name': 'CD4017BE Decade Counter IC DIP-16 Package', 'Price': '18.00'}, {'Name': 'CH341A 24 25 Series EEPROM Flash BIOS USB Programmer with Software & Driver', 'Price': '282.00'}, {'Name': 'Combo of W1209 digital temperature controller with 2 piece 3inch fan + 12v 2 amp adapter + alligator clips + DC Female jack', 'Price': '426.00'}, {'Name': 'Combo of W3001 Temperature Controller With 2 Piece 3inch Fan + 12v 2amp Adapter + Alligator Clip + DC Female Jack', 'Price': '556.00'}, {'Name': 'CP2102 USB 2.0 to TTL UART 6-Pin Serial Converter STC Replace FT232 Module', 'Price': '212.00'}, {'Name': 'CP2102 USB 2.0 to TTL UART Module 5-Pin Serial Converter STC Replace FT232 Module Compatible with Windows 7,8,10,Linux,Mac OSX', 'Price': '211.00'}, {'Name': 'Crocodile Alligator Clips Electrical Test Clamps with Protective Insulation Cover - Black', 'Price': '8.00'}, {'Name': 'Crocodile Alligator Clips Electrical Test Clamps with Protective Insulation Cover - Red', 'Price': '8.00'}, {'Name': 'CRT Kit Capacitor-Resistor-Transistor Kit 60 Values, 310 Pcs Components Box Pack For Engineering Projects, DIY Models etc.', 'Price': '172.00'}, {'Name': 'D1 R2 WiFi Esp8266 Shield Arduino Compatible Development Board (D1 Uno)', 'Price': '387.00'}, {'Name': 'DC 3.7-6V To 400KV High Voltage Generator Transformer Boost Step Up Power Module', 'Price': '250.00'}, {'Name': 'DC 3V-6V 140 Motor 2000 RPM for DIY Electric motor Toy Car, Ships, Small Fan (5 Pcs)', 'Price': '191.00'}, {'Name': 'DC 5V 12V 24V 3010 Fan Cooling Brushless Mini Fan For 3D Printer', 'Price': '90.00'}, {'Name': 'DC BO Motor 12V Dual Shaft For Smart Car Robot Gear for Arduino', 'Price': '63.00'}, {'Name': 'DC Motor PWM Speed Control Switch', 'Price': '195.00'}, {'Name': 'DC Voltage Detection Sensor Module 25V', 'Price': '67.00'}, {'Name': 'Deluxe Soldering Iron 25 Watt with LED Power Indicator (Yellow)', 'Price': '110.00'}, {'Name': 'DFPlayer Mini MP3 Player Module For Arduino', 'Price': '185.00'}, {'Name': 'DHT11 Digital Relative Humidity Temperature Sensor Module Compatible with Arduino, Arm And Other MCU', 'Price': '221.00'}, {'Name': 'Digital Servo Tester / ESC Consistency Tester', 'Price': '367.00'}, {'Name': 'Digital Voltmeter Ammeter DC 0-100V 10A Dual Red-Blue LED Monitor Panel, Black', 'Price': '237.00'}, {'Name': 'Diy Kit For Automatic Sanitizer Machine Ir Sensor Module', 'Price': '345.00'}, {'Name': 'Double BTS7960B DC 43A Stepper Motor Driver H-Bridge PWM For Arduino', 'Price': '722.00'}, {'Name': 'DRV8825 StepStick Stepper Motor Driver Module With Aluminum Heatsink For 3D Printer', 'Price': '153.00'}, {'Name': 'DS18B20 Waterproof Digital Temperature Sensor Thermal Probe 1M (100cm) with Heat Resistance Thermal Cable for Arduino', 'Price': '105.00'}, {'Name': 'DS18B20 Waterproof Temperature Sensor – Thermal Probe Thermometer 1m Cable', 'Price': '108.00'}, {'Name': 'DS3231 AT24C32 IIC Precision RTC Real Time Clock Memory Module Arduino RPI MCU', 'Price': '289.00'}, {'Name': 'Dual Shaft BO Motor And Wheel Smart Car Robot Gear Motor For Arduino, Black and Yellow', 'Price': '192.00'}, {'Name': 'Dual Shaft BO Motor With Wheel, Black and Yellow, (2 Sets)', 'Price': '200.00'}, {'Name': 'Dual-Axis XY Joystick Module Game Controller for Arduino PS2', 'Price': '65.00'}, {'Name': 'EBRTH02 50 Value Resistor Kit (Pack of 1000)', 'Price': '230.00'}, {'Name': 'Electronic Components Project Kit (EC Project Kit)', 'Price': '554.00'}, {'Name': 'ESP-01 ESP8266 Arduino Compatible Serial ESP01 WIFI Wireless Transceiver Module', 'Price': '161.00'}, {'Name': 'ESP32-WROOM-32 WiFi & Bluetooth MCU Module', 'Price': '480.00'}, {'Name': 'ESP8266 Nodemcu Esp8266 Lua Amica Wifi Internet of Things Development Board Cp2102 Iot - Pack of 1', 'Price': '345.00'}, {'Name': 'ESP8266 Serial Wifi Wireless Transmitter Module Gain Antenna MT76813DBI', 'Price': '119.00'}, {'Name': 'ESP8266 Serial Wireless Module CH340 WIFI Development Board for Arduino', 'Price': '297.00'}, {'Name': 'Eye Blink Sensor System', 'Price': '180.00'}, {'Name': 'F450 Quadcopter 4-Axis Strong Frame (Multicolour)', 'Price': '914.00'}, {'Name': 'F450 Quadcopter Kit Includes 4 x 1000KV BLDC Motor & 4 x 30A ESC with 2 Sets of 1045 Propeller', 'Price': '5312.00'}, {'Name': 'F450 Quadcopter Kit Includes 4 x A2212 1000KV BLDC Motor and 4 x 30A ESC (Simonk) With 2 Sets of 1045 Propeller', 'Price': '5533.00'}, {'Name': 'F550 AirFrame Hexacopter Frame with Integrated PCB', 'Price': '2155.00'}, {'Name': 'Female to Female ( F-F ) 40 Pin Dupont Jumper Wire, 40 Pieces, 20 cm', 'Price': '66.00'}, {'Name': 'Flame Sensor Infrared Receiver Ignition Source Detection Module', 'Price': '63.00'}, {'Name': 'FLUX Soldering Paste, Solid, 10 g (2Pcs)', 'Price': '34.00'}, {'Name': 'Flysky 2.4Ghz CT6B (CT-6B) Remote Control 6 Channel Transmitter and Receiver for Quadcopter', 'Price': '3678.00'}, {'Name': 'FlySky FS-i6 2.4GHz 6CH PPM RC Transmitter With FS-iA6B Receiver', 'Price': '5689.00'}, {'Name': 'Futaba S3003 Standard High Speed Servo Motor for Robots Arduino Smart Car RC Car Airplane Helicopter', 'Price': '277.00'}, {'Name': 'Gift Voucher', 'Price': '500.00'}, {'Name': 'GL-12 840 Points Solderless Breadboard', 'Price': '95.00'}, {'Name': 'GP2Y1010AU0F / GP2Y1014AU Compact Optical Dust/Smoke Sensor Module', 'Price': '330.00'}, {'Name': 'GPS/GLONASS GNSS Antenna for Raspberry Pi HAT and Arduino Shield with 3 Meter Cable', 'Price': '189.00'}, {'Name': 'Gy-521 Mpu6050 Moduleand 3 Accelerometer for Arduino, Blue', 'Price': '172.00'}, {'Name': 'GY-9250 GY-6500 Sensor module MPU-9250 I2C 9-Axis Gyro Magnetometer Accelerometer', 'Price': '513.00'}, {'Name': 'GY-NEO6MV2 Ublox NEO-6M GPS Positioning Module to Serial TTL for Arduino Flight Controller', 'Price': '431.00'}, {'Name': 'HC-05 Wireless Bluetooth Host Serial Transceiver Module Slave and Master RS232 for Arduino', 'Price': '304.00'}, {'Name': 'HC-SR04 HCSR04 Ultrasonic Wave Detector Range Finder Sensor Module Distance Measuring Transducer for Arduino DIY KIT', 'Price': '93.00'}, {'Name': 'HDMI Female to Micro HDMI Male Adapter', 'Price': '48.00'}, {'Name': 'Heart Beat Rate Pulse Sensor Module for Arduino Raspberry Pi DIY Projects', 'Price': '205.00'}, {'Name': 'Heat Shrink Sleeve 4mm Black 2meter Industrial Grade WOER (HST)', 'Price': '38.00'}, {'Name': 'Heat Shrink Sleeve 8mm Black 1meter Industrial Grade WOER (HST)', 'Price': '8.00'}, {'Name': 'Heat Shrink Tubing (HST) Insulation Assorted kit : 45mm length – 530pcs', 'Price': '391.00'}, {'Name': 'High Current Active 3.3V 5V Buzzer Alarm Module Sensor', 'Price': '32.00'}, {'Name': 'High Landing Gear For F450 F550 SK480 Frame (White)', 'Price': '208.00'}, {'Name': 'High Landing Gear For Quadcopter F450 F550 SK480 Frame (Black)', 'Price': '219.00'}, {'Name': 'High Voltage APM Power Module with 3A UBEC', 'Price': '695.00'}, {'Name': 'High-Power 2000W SCR Voltage Regulator Dimmer Speed Temperature Controller AC 220V 2000W Best For AC Light Fan Dimmer', 'Price': '149.00'}, {'Name': 'HW ORIGINAL 9V BATTERY', 'Price': '30.00'}, {'Name': 'HX711 Weighing Pressure Sensor + Load Cell Sensor', 'Price': '212.00'}, {'Name': 'HX711 Weighing Sensor Dual-Channel 24 Bit Precision A/D Module Pressure Sensor Module', 'Price': '128.00'}, {'Name': 'IIC/I2C Serial Interface Adapter Module Port For 5V Arduino 1602 LCD', 'Price': '118.00'}, {'Name': 'IMAX B6 AC 80W 6A Charger/Discharger 1-6 Cells', 'Price': '1929.00'}, {'Name': 'Interface MQ-4 MQ4 Methane Gas Detection Sensor Module', 'Price': '86.00'}, {'Name': 'Interfacing MAX30102 Pulse Oximeter Heart Rate Module with Arduino', 'Price': '155.00'}, {'Name': 'IR 5mm RX (Infrared Receiver)', 'Price': '7.00'}, {'Name': 'IR Infrared Obstacle Avoidance 3 Wire Reflective Photoelectric Sensor Module for Arduino Smart Car Robot', 'Price': '50.00'}, {'Name': 'IR Remote Control', 'Price': '61.00'}, {'Name': 'ISD1820 3-5V Voice Recording Recorder Playback Module with Mic Sound Audio Loudspeaker SCM Control Loop Play/Jog Play/Single Play Function With Microphone And 0.5W 8R Speaker', 'Price': '189.00'}, {'Name': 'Jumper Wires Male To Male ( M-M ), Male To Female ( M-F ), Female to Female ( F-F ), 20cm, 120 Pieces', 'Price': '176.00'}, {'Name': 'Jumper Wires Male To Male ( M-M ), Male To Female ( M-F ), Female to Female ( F-F ), 20cm, 60 Pieces', 'Price': '165.00'}, {'Name': 'KEYPAD MEMBRANE 4*4', 'Price': '74.00'}, {'Name': 'KK 2.1 Multi-rotor LCD Flight Controller with 6050MPU and Atmel 644PA', 'Price': '3200.00'}, {'Name': 'L293D Dual H-Bridge Motor Driver IC DIP-16 Package', 'Price': '38.00'}, {'Name': 'L293D IC', 'Price': '36.00'}, {'Name': 'L293D Motor Driver / Stepper / Servo Shield Expansion Board For Arduino Mega UNO Due', 'Price': '201.00'}, {'Name': 'L298N DC Stepper Motor Driver Controller Board Module H-Bridge for Arduino', 'Price': '156.00'}, {'Name': 'L78M05CV (L7805CV) TO-220 Linear Voltage Regulator', 'Price': '49.00'}, {'Name': 'Laser Diode Module - 5mW 650nm 5V Red', 'Price': '88.00'}, {'Name': 'LCD 16x2 1602 Alphanumeric Display And IIC/I2C Serial Interface Adapter Module', 'Price': '287.00'}, {'Name': 'LCD 16x2 Alphanumeric Display (JHD162A) for 8051, AVR, Arduino, PIC, ARM All', 'Price': '185.00'}, {'Name': 'LCD 16×2 (Blue) Alphanumeric Display (JHD162A) for 8051, AVR, Arduino, PIC, ARM All', 'Price': '205.00'}, {'Name': 'LCD1602 Arduino Compatible LCD Keypad Shield for Arduino', 'Price': '264.00'}, {'Name': 'Ldr - Light Dependent Register- Photo Resistor (10 Pieces)', 'Price': '48.00'}, {'Name': 'LDR Module LM393 Optical Photosensitive LDR (Photoresistor) Light Sensor Module For Arduino DC 3-5V', 'Price': '46.00'}, {'Name': 'Lipo (Lithium Polymer) Battery 11.1 V, 25 C, 2200 mAh Rechargeable, Power Supply for RC Cars and Quadcopter', 'Price': '1328.00'}, {'Name': 'LM2596 DC-DC Buck Converter Adjustable Step-Down Power Supply Module (3.0-40V - 1.5-35V)', 'Price': '76.00'}, {'Name': 'LM317T Adjustable Voltage Regulator', 'Price': '22.00'}, {'Name': 'LM35 TEMPERATURE SENSOR', 'Price': '67.00'}, {'Name': 'LM358P PDIP-8 High Gain Operational Amplifier', 'Price': '10.00'}, {'Name': 'LM7812 IC - 12V Positive Voltage Regulator IC', 'Price': '11.00'}, {'Name': 'Logic Analyzer 24M 8CH Microcontroller ARM FPGA Debug Tool 24MHz, 16MHz, 12MHz, 8MHz, 4MHz, 2MHz', 'Price': '561.00'}, {'Name': 'Male to Female ( M-F ) 40 Pin Dupont Jumper Wire, 40 Pieces, 20 cm', 'Price': '67.00'}, {'Name': 'Male to Male ( M-M ) 40 Pin Dupont Jumper Wire, 40 Pieces, 20 cm', 'Price': '67.00'}, {'Name': 'Max7219 Dot Matrix Module Mcu Control Led Display Module MCU Control DIY Kit for Arduino Arm Raspberry', 'Price': '146.00'}, {'Name': 'MB102 Breadboard Power Supply Module 3.3V/5V', 'Price': '68.00'}, {'Name': 'MC-38 Wired Door Window Sensor Magnetic Switch Home Alarm System', 'Price': '88.00'}, {'Name': 'Mg90s Metal Geared Micro Servo 180 Degree for Rc Car Boat Plane Helicopter, Multicolor, Pack of 1', 'Price': '277.00'}, {'Name': 'MG996R Metal Gears Digital RC Servo Motor High Torque, Black', 'Price': '309.00'}, {'Name': 'Micro DC 3-6V Submersible Mini Water Pump For Fountain Garden DIY Project Fish Tank', 'Price': '68.00'}, {'Name': 'Micro SD Card Module Storage Board, Micro SD TF Card Memory Shield Module SPI, Micro SD Adapter for Arduino', 'Price': '95.00'}, {'Name': 'Micro USB-B (Female) to USB Type C (Male) Converter Adapter for Raspberry Pi 4', 'Price': '52.00'}, {'Name': 'Mini M2 M2.5 M3 M4 Screw Nut Cross Wrench Sleeve for RC Models', 'Price': '78.00'}, {'Name': 'MLX90614ESF Non Contact Infrared IR Temperature Sensor Module For Arduino', 'Price': '995.00'}, {'Name': 'Motor Controller for 24V 250W MY1016', 'Price': '565.00'}, {'Name': 'MQ-135 Air Quality Sensor Module Gas Sensor with Pin Header', 'Price': '108.00'}, {'Name': 'MQ-137 Ammonia Detection NH3 Gas Sensor Module', 'Price': '2162.00'}, {'Name': 'MQ-5 Methane LPG Liquid Propane Gas Detection Sensor Module', 'Price': '112.00'}, {'Name': 'MQ-6 Liquefied Petroleum Isobutane Propane LPG Gas Sensor module', 'Price': '113.00'}, {'Name': 'MQ-9 Carbon Monoxide, Combustible Methane and LPG Gas Detection Sensor Module', 'Price': '144.00'}, {'Name': 'MQ2 Mq-2 Gas Sensor Module Smoke Methane Butane Detection - Pack of 1', 'Price': '143.00'}, {'Name': 'MQ3 Mq-3 Alcohol Ethanol Gas Sensor Module Breathalyzer Works With official Arduino Boards (Red and Black)', 'Price': '159.00'}, {'Name': 'MQ4 – CNG Methane Natural Coal Gas Detector Sensor Module', 'Price': '127.00'}, {'Name': 'MT-87 Digital Clamp Meter for Measuring AC/DC Voltage, AC Current, Resistance, Data Hold', 'Price': '495.00'}, {'Name': 'MT3608 Max DC-DC 2V-24V 2A Step Up Converter Booster Power Module', 'Price': '81.00'}, {'Name': 'Nano Board R3 CH340 chip With USB Mini Cable compatible with Arduino (soldered)', 'Price': '792.00'}, {'Name': 'NE555 Timer IC', 'Price': '10.00'}, {'Name': 'Nodemcu ESP32 ESP-32 ESP 32 ESP-32S Wifi Bluetooth Development Board', 'Price': '556.00'}, {'Name': 'NodeMCU ESP8266 CP2102 NodeMCU WIFI Serial Wireless Module', 'Price': '325.00'}, {'Name': 'NOEL 1M Desoldering Wick', 'Price': '34.00'}, {'Name': 'Noel Solder Wire 60/40 for Electrical Soldering and DIY', 'Price': '168.00'}, {'Name': 'nRF24L01 Ultra low power 2.4GHz RF Wireless Transceiver Module', 'Price': '105.00'}, {'Name': 'Official Raspberry Pi 4 Micro HDMI to Standard HDMI Male Cable (1m)', 'Price': '390.00'}, {'Name': 'OLED 0.96 Inch 4 Pin I2C IIC Interface 128X64 OLED Screen Display Module for Arduino', 'Price': '282.00'}, {'Name': 'OTH16 Breadboard MB102 830 Tie Points Solderless Prototype PCB Breadboard MB-102 Test DIY For Arduino', 'Price': '93.00'}, {'Name': 'OTH20 170 Points Mini Breadboard, Solderless Mini Breadboard for Prototyping, White', 'Price': '39.00'}, {'Name': 'PAM8403 2x3W (3W+3W) Class D Digital Audio Amplifier Board Module 5V USB Power', 'Price': '89.00'}, {'Name': 'PAM8403 Mini 5V Audio Amplifier Board with Switch Potentiometer', 'Price': '74.00'}, {'Name': 'PAM8403 Module Super Board 2 * 3W Class D Digital Amplifier Board Efficient 2.5 to 5V USB Power - Pack of 1', 'Price': '212.00'}, {'Name': 'PCA9685 – 16 Channel 12-Bit PWM Servo Motor Driver I2C Module For Arduino', 'Price': '0.00'}, {'Name': 'PDB-XT60 with BEC 5V and 12V', 'Price': '416.00'}, {'Name': 'PIR Motion Sensor HC-SR501 Motion Detector Pyroelectric Infrared Module', 'Price': '100.00'}, {'Name': 'Pl2303HX USB To TTL To Uart RS232 Com Cable Module Converter, Black', 'Price': '144.00'}, {'Name': 'Plastic Soil Moisture Meter Testing, Humidity, Water Sensor, Hygrometer Detection Module for Arduino and Other MCU, 3.5 Inch', 'Price': '72.00'}, {'Name': 'Portable Build Power B3 Lipo Battery Balance Charger for RC 2~3 Cells 7.4V 11.1V Lipo Battery', 'Price': '491.00'}, {'Name': 'Power Adaptor 12 Volt 2 Amp Charger AC Input 100-270V DC 12V 2A +DC PIN SMPS - Pack of 1', 'Price': '162.00'}, {'Name': 'Power Component Kit for Project | Electronic Components - Resistors, Capacitors, Transistors, LED, Diodes, Breadboard, Wire Switch', 'Price': '698.00'}, {'Name': 'Premium Black Grey Official Pi Case for Raspberry Pi', 'Price': '146.00'}, {'Name': 'Premium Red White Official Pi Case for Raspberry Pi', 'Price': '146.00'}, {'Name': 'Products 74HC595 8-bit Serial to Parallel Shift Register IC (74595 IC) DIP-16 Package', 'Price': '24.00'}, {'Name': 'Project Basic Starter Kit compatible with Arduino IDE for Science Project - Combo Set', 'Price': '1964.00'}, {'Name': 'Quadcopter Frame Kit With 4 x A2212 KV1000 Brushless Motor and 4 x 30A ESC and 2 Pair 1045 Propeller (With CT6B Radio Model RC Transmitter & Receiver)', 'Price': '9059.00'}, {'Name': 'Quadcopter Frame Kit With 4 x A2212 KV1000 Brushless Motor and 4 x 30A ESC SIMONK and 2 Pair 1045 Propeller (With CT6B and Lipo Battery & B3 Charger)', 'Price': '11933.00'}, {'Name': 'R307 Optical Fingerprint Reader Sensor Module, Finger Detection Function (Multicolour, 3 Inches)', 'Price': '1409.00'}, {'Name': 'Rain Sensitive Sensor Module, Rain Drop Detection Sensor Module/Raindrops Humidity Sensor for Arduino', 'Price': '105.00'}, {'Name': 'Raspberry Pi Camera Board Module With 5MP 15Cm Soft Cable Support', 'Price': '368.00'}, {'Name': 'Raspberry Pi Compute Module 4 IO Board', 'Price': '3250.00'}, {'Name': 'RC Combo Kit 30A Esc + 1045 Propeller Set + 1000KV Brushless Motor (BLDC)', 'Price': '1198.00'}, {'Name': 'RC Combo Kit 30A Esc Simonk + 1045 Propeller Set + 1000KV Brushless Motor (BLDC)', 'Price': '1217.00'}, {'Name': 'RC Lipo Battery Strap Belt 30x2cm Non Slip Tie Strong Cable Reusable Battery Tie Down Belt', 'Price': '74.00'}, {'Name': 'RC522 RFID Reader Writer Module With RFID Card and Tag', 'Price': '164.00'}, {'Name': 'Real Time Clock DS1307 RTC I2C Module AT24C32 Without Battery', 'Price': '97.00'}, {'Name': 'resistor', 'Price': '0.00'}, {'Name': 'Reusable Solderless Breadboard Dupont Jumper Wires Connector for Raspberry Bot Circuit Creating Ribbon Cables Kit PCB Cable Female to Female, 20 Pieces', 'Price': '53.00'}, {'Name': 'Reusable Solderless Breadboard Dupont Jumper Wires Connector for Raspberry Bot Circuit Creating Ribbon Cables Kit PCB Cable Male to Female, 20 Pieces', 'Price': '31.00'}, {'Name': 'RF Module Ask Wireless Transmitter Receiver Pair 433/434Mhz 434 Mhz Compatible With Arduino Raspberry Pi DIY Projects', 'Price': '153.00'}, {'Name': 'RI-188 ATMEGA328P - PU IC Chip PDIP-28 Microcontroller with Arduino UNO Bootloader', 'Price': '188.00'}, {'Name': 'RM065 100 Ohm Trimpot Trimmer Potentiometer', 'Price': '6.00'}, {'Name': 'RM065 10k Ohm Trimpot Trimmer Potentiometer', 'Price': '6.00'}, {'Name': 'RM065 1k Ohm Trimpot Trimmer Potentiometer', 'Price': '6.00'}, {'Name': 'Robot Wheel For BO Motors (65mm-Yellow)', 'Price': '39.00'}, {'Name': 'Robotbanao 200 Pieces Capacitor Kit for DIY Projects - Combo Kit', 'Price': '299.00'}, {'Name': 'RS232 to TTL Serial Interface Module', 'Price': '88.00'}, {'Name': 'S8050 NPN General Purpose Transistor', 'Price': '6.00'}, {'Name': 'S8550 PNP General Purpose Transistor', 'Price': '6.00'}, {'Name': 'Sensor Shield V5 Expansion Board For Arduino', 'Price': '165.00'}, {'Name': 'Servo MG995 Metal Gear High Torque Servo, Black - 180 Degree', 'Price': '314.00'}, {'Name': 'Servo MG995 Metal Gear High Torque Servo, Black - 360 Degree', 'Price': '244.00'}, {'Name': 'Servo Tester 3Ch Digital Multi Servo Tester Ecs Rc Consistency Ccmp Master Speed Controler Checker Kg301', 'Price': '141.00'}, {'Name': 'SIM800L GPRS GSM Module Micro SIM Card Core Board Quad-band TTL Serial Port with the Antenna', 'Price': '337.00'}, {'Name': 'Simonk 30A ESC Electronic Speed Controller (Set of 4)', 'Price': '2224.00'}, {'Name': 'Smart Car Chassis 4WD / Racing Car/Robot Car Chassis/Wheels/Motors', 'Price': '734.00'}, {'Name': 'SN74HC595N IC SHIFT RESISTOR', 'Price': '29.00'}, {'Name': 'Solder Desoldering Wick 2.5mm', 'Price': '48.00'}, {'Name': 'Solder Iron Tips Cleaning Sponge', 'Price': '21.00'}, {'Name': 'Solder Wire 60/40 Tin/Lead Resin Cored, SWG-20/22 40 gms', 'Price': '88.00'}, {'Name': 'Soldering Iron 25 Watt with LED Power Indicator', 'Price': '108.00'}, {'Name': 'Soldering Iron Stand 25W', 'Price': '54.00'}, {'Name': 'Solderless 830 Tie-Points Experiment Plug-In Breadboard Kit With Jumper Wires For Proto-Typing Circuit/Arduino', 'Price': '0.00'}, {'Name': 'Sound Detection Sensor Module Intelligent Vehicle For Arduino And Other Mcu', 'Price': '74.00'}, {'Name': 'Speaker - 0.5W, 8 Ohm (Small)', 'Price': '42.00'}, {'Name': 'SS-12F15 SPDT slide switch', 'Price': '7.00'}, {'Name': 'ST-Link V2 Mini for STM8 & STM32 Simulator Download Programmer With Cover DuPont Cable', 'Price': '762.00'}, {'Name': 'STC-1000 LED Digital Thermostat for Incubator Temperature Controller Thermoregulator Heating and Cooling Relay', 'Price': '582.00'}, {'Name': 'STM32F103C8T6 ARM STM32 Minimum System Development Board Module for arduino CS32F103C8T6', 'Price': '843.00'}, {'Name': 'Super Starter Kit for Arduino Uno R3 Compatible with Arduino - Combo Set', 'Price': '2282.00'}, {'Name': 'TEC1 12706 40x40 mm Thermoelectric Cooler 6A Peltier Module', 'Price': '255.00'}, {'Name': 'TEC1-12710 Thermoelectric Cooler 10A Peltier Module', 'Price': '284.00'}, {'Name': 'TIP122 NPN Power Darlington Transistor 100V 5A TO-220 Package', 'Price': '21.00'}, {'Name': 'TIP32C PNP Bipolar Power Transistor', 'Price': '14.00'}, {'Name': 'TowerPro SG90 Micro Servo Motor 9g RC Robot Helicopter Airplane Boat Controls, BLUE', 'Price': '161.00'}, {'Name': 'TP4056 IC – Standalone Lithium Ion Li-on Battery Charger', 'Price': '20.00'}, {'Name': 'TP4056/TC4056 1A Li-Ion Lithium Battery Charging Module – Micro B USB', 'Price': '64.00'}, {'Name': 'Transparent Breadboard 830 Points for Solderless Prototyping', 'Price': '148.00'}, {'Name': 'TTP223B Digital Touch Sensor Capacitive Touch Switch Module for Arduino DIY', 'Price': '37.00'}, {'Name': 'TTP224 4-way Digital Touch Sensor Module 4 Channel Capacitive Touch Switch for Arduino Best for DIY Home Automation IOT/Touch Sensor Project', 'Price': '90.00'}, {'Name': 'TTP226 3-5V 8-Channel Capacitive Touch PAD Sensor Sensing Detector Module, Capacitive Touch Switch, 8 Way Digital PCB Module', 'Price': '166.00'}, {'Name': 'TTP229 16-way Digital Touch Sensor Module 16 Channel Capacitive Touch Switch for Arduino Best for DIY Home Automation IOT/Touch Sensor Project', 'Price': '177.00'}, {'Name': 'TYPE C TP4056 Battery Charging Module Li-Ion Board (WITH PROTECTION) (5V / 1A)', 'Price': '64.00'}, {'Name': 'UA 741 IC - General Purpose Operational Amplifier IC', 'Price': '16.00'}, {'Name': 'UL1007-18AWG PVC Electronic Wire Tinned Copper Cable', 'Price': '27.00'}, {'Name': 'UL1007-18AWG PVC Electronic Wire Tinned Copper Cable 1m (Black) + 1m (Red)', 'Price': '46.00'}, {'Name': 'ULN2003 Stepper Motor Driver Board Module Sensor Panel for Arduino/AVR/ARM Raspberry Pi 5 Line 4 Phase', 'Price': '56.00'}, {'Name': 'Universal GPS Folding Antenna Base For Multirotor / Drone', 'Price': '240.00'}, {'Name': 'USB Charger Doctor - In-line Voltage and Current Meter', 'Price': '110.00'}, {'Name': 'USB Mic for Raspberry Pi Plug and Play Desktop Microphone', 'Price': '198.00'}, {'Name': 'USB To Type C OTG Connector Adaptor', 'Price': '38.00'}, {'Name': 'USB-2.0 Mini B Cable for Arduino Nano (20 cm)', 'Price': '40.00'}, {'Name': 'Vibration sensor module alarm Motion sensor module vibration switch SW-420', 'Price': '67.00'}, {'Name': 'W1209 50~100 LED DC 12V Digital Temperature Controller Thermostat Sensor Temperature Switch Module', 'Price': '188.00'}, {'Name': 'W3001 220V 10A Digital LED Display Temperature Controller With Thermocouple Sensor / Thermostat Control Switch', 'Price': '381.00'}, {'Name': 'Water Flow Sensor YF-G1 DN25 1 Inch', 'Price': '921.00'}, {'Name': 'Wire Stripper And Cutter Multitec 150-B', 'Price': '55.00'}, {'Name': 'Wireless Lora RF Receiver Module RA-02 Ai-Thinker 10Km 433MHZ SX1278', 'Price': '648.00'}, {'Name': 'XH-M120 PAM8610 Dual Channel Audio Amplifier Board', 'Price': '390.00'}, {'Name': 'XL4015 5A CC CV Lithium Charger DC-DC Step Down Adjustable Power Supply Buck Module', 'Price': '136.00'}, {'Name': 'XL4015E1 Constant Current/ Voltage 5A Lithium Battery Charging Module', 'Price': '195.00'}, {'Name': 'XL4016 DC-DC Step-down Adjustable Constant Voltage Module-10A', 'Price': '365.00'}, {'Name': 'XL6009 DC-DC Step-Up Module with Adjustable Booster Power Supply Module', 'Price': '119.00'}, {'Name': 'XT30-U Female Bullet Connector Gold Plated 2 Sockets', 'Price': '28.00'}, {'Name': 'XT60 Male to Female type T-Connector Adapter', 'Price': '98.00'}, {'Name': 'XY-016 2A DC-DC Step Up 5V/9V/12V/28V Power Module with Micro USB', 'Price': '49.00'}, {'Name': 'YF-S201 Water Flow Sensor Sea YFS201 Flowmeter / Hall Effect Flowmeter G1/2 1-30L per Min ( 1-30L/Min ) 2.0 Mpa for Diy Arduino', 'Price': '224.00'}, {'Name': 'ZMPT101B Single Phase AC Voltage Sensor Module', 'Price': '173.00'}, {'Name': 'Zvs 12-48V 20A 1000W High Frequency Low Voltage Induction Heating Machine Module', 'Price': '2500.00'}]\n"
     ]
    }
   ],
   "source": [
    "# Iteration to include all pages\n",
    "products_list = []\n",
    "while True:\n",
    "    print(url)\n",
    "    # Sending get request\n",
    "    response = requests.get(url)\n",
    "    # Check status code\n",
    "    #print(response.status_code)\n",
    "    \n",
    "    # Create a Beautiful Soup Object\n",
    "    soup = BeautifulSoup(response.content,'html.parser')\n",
    "    # Implementing the logic\n",
    "    # (Extracting the footer info)\n",
    "    footer = soup.select_one('span.pagination__page-count')\n",
    "    #print(footer.text.strip())\n",
    "    \n",
    "    # Getting Product Title and Price \n",
    "    products = soup.find_all('div', class_='product-item__info-inner')\n",
    "    for product in products:\n",
    "        product_name = product.find('a').text\n",
    "        price = product.find('span').text\n",
    "        price = price.replace(\"Sale priceRs.\",\"\").replace(\",\",\"\").replace(\"Sale priceFrom Rs.\",\"\").strip()\n",
    "        products_list.append({'Name':product_name,'Price':price})\n",
    "        \n",
    "    # Find next page element if present\n",
    "    next_page = soup.select_one('a.pagination__next.link')\n",
    "    if next_page:\n",
    "        next_url = next_page.get('href')\n",
    "        url = urljoin(url,next_url) # Base URl + Next URL\n",
    "       \n",
    "    \n",
    "    # Check if next page exists\n",
    "    else:\n",
    "        break\n",
    "    \n",
    "print(products_list)    "
   ]
  },
  {
   "cell_type": "code",
   "execution_count": 20,
   "id": "63d4de0b",
   "metadata": {
    "scrolled": true
   },
   "outputs": [
    {
     "data": {
      "text/plain": [
       "Name     446\n",
       "Price    446\n",
       "dtype: int64"
      ]
     },
     "execution_count": 20,
     "metadata": {},
     "output_type": "execute_result"
    }
   ],
   "source": [
    "df = pd.DataFrame(products_list)\n",
    "df.count()"
   ]
  },
  {
   "cell_type": "code",
   "execution_count": 21,
   "id": "a30ffcbe",
   "metadata": {},
   "outputs": [],
   "source": [
    "df.reset_index(drop=True,inplace=True)"
   ]
  },
  {
   "cell_type": "code",
   "execution_count": 23,
   "id": "4c42a427",
   "metadata": {},
   "outputs": [],
   "source": [
    "df.to_csv('RB All products.csv',index = False)"
   ]
  },
  {
   "cell_type": "code",
   "execution_count": 24,
   "id": "62ccfcd6",
   "metadata": {},
   "outputs": [
    {
     "data": {
      "text/html": [
       "<div>\n",
       "<style scoped>\n",
       "    .dataframe tbody tr th:only-of-type {\n",
       "        vertical-align: middle;\n",
       "    }\n",
       "\n",
       "    .dataframe tbody tr th {\n",
       "        vertical-align: top;\n",
       "    }\n",
       "\n",
       "    .dataframe thead th {\n",
       "        text-align: right;\n",
       "    }\n",
       "</style>\n",
       "<table border=\"1\" class=\"dataframe\">\n",
       "  <thead>\n",
       "    <tr style=\"text-align: right;\">\n",
       "      <th></th>\n",
       "      <th>Name</th>\n",
       "      <th>Price</th>\n",
       "    </tr>\n",
       "  </thead>\n",
       "  <tbody>\n",
       "    <tr>\n",
       "      <th>0</th>\n",
       "      <td>1 uF 50V Electrolytic Capacitor</td>\n",
       "      <td>3.00</td>\n",
       "    </tr>\n",
       "    <tr>\n",
       "      <th>1</th>\n",
       "      <td>1-8S LiPo Battery Voltage Tester Low Volt Alar...</td>\n",
       "      <td>165.00</td>\n",
       "    </tr>\n",
       "    <tr>\n",
       "      <th>2</th>\n",
       "      <td>10 ohm Resistor - 1/4 Watt - 5 Pieces Pack</td>\n",
       "      <td>2.00</td>\n",
       "    </tr>\n",
       "    <tr>\n",
       "      <th>3</th>\n",
       "      <td>10 Pieces of Double Ended Crocodile Clips Cabl...</td>\n",
       "      <td>128.00</td>\n",
       "    </tr>\n",
       "    <tr>\n",
       "      <th>4</th>\n",
       "      <td>10 uF 25V Electrolytic Capacitor</td>\n",
       "      <td>3.00</td>\n",
       "    </tr>\n",
       "    <tr>\n",
       "      <th>...</th>\n",
       "      <td>...</td>\n",
       "      <td>...</td>\n",
       "    </tr>\n",
       "    <tr>\n",
       "      <th>441</th>\n",
       "      <td>XT60 Male to Female type T-Connector Adapter</td>\n",
       "      <td>98.00</td>\n",
       "    </tr>\n",
       "    <tr>\n",
       "      <th>442</th>\n",
       "      <td>XY-016 2A DC-DC Step Up 5V/9V/12V/28V Power Mo...</td>\n",
       "      <td>49.00</td>\n",
       "    </tr>\n",
       "    <tr>\n",
       "      <th>443</th>\n",
       "      <td>YF-S201 Water Flow Sensor Sea YFS201 Flowmeter...</td>\n",
       "      <td>224.00</td>\n",
       "    </tr>\n",
       "    <tr>\n",
       "      <th>444</th>\n",
       "      <td>ZMPT101B Single Phase AC Voltage Sensor Module</td>\n",
       "      <td>173.00</td>\n",
       "    </tr>\n",
       "    <tr>\n",
       "      <th>445</th>\n",
       "      <td>Zvs 12-48V 20A 1000W High Frequency Low Voltag...</td>\n",
       "      <td>2500.00</td>\n",
       "    </tr>\n",
       "  </tbody>\n",
       "</table>\n",
       "<p>446 rows × 2 columns</p>\n",
       "</div>"
      ],
      "text/plain": [
       "                                                  Name    Price\n",
       "0                      1 uF 50V Electrolytic Capacitor     3.00\n",
       "1    1-8S LiPo Battery Voltage Tester Low Volt Alar...   165.00\n",
       "2           10 ohm Resistor - 1/4 Watt - 5 Pieces Pack     2.00\n",
       "3    10 Pieces of Double Ended Crocodile Clips Cabl...   128.00\n",
       "4                     10 uF 25V Electrolytic Capacitor     3.00\n",
       "..                                                 ...      ...\n",
       "441       XT60 Male to Female type T-Connector Adapter    98.00\n",
       "442  XY-016 2A DC-DC Step Up 5V/9V/12V/28V Power Mo...    49.00\n",
       "443  YF-S201 Water Flow Sensor Sea YFS201 Flowmeter...   224.00\n",
       "444     ZMPT101B Single Phase AC Voltage Sensor Module   173.00\n",
       "445  Zvs 12-48V 20A 1000W High Frequency Low Voltag...  2500.00\n",
       "\n",
       "[446 rows x 2 columns]"
      ]
     },
     "execution_count": 24,
     "metadata": {},
     "output_type": "execute_result"
    }
   ],
   "source": [
    "df"
   ]
  },
  {
   "cell_type": "code",
   "execution_count": null,
   "id": "9cbcb3a3",
   "metadata": {},
   "outputs": [],
   "source": []
  }
 ],
 "metadata": {
  "kernelspec": {
   "display_name": "Python 3 (ipykernel)",
   "language": "python",
   "name": "python3"
  },
  "language_info": {
   "codemirror_mode": {
    "name": "ipython",
    "version": 3
   },
   "file_extension": ".py",
   "mimetype": "text/x-python",
   "name": "python",
   "nbconvert_exporter": "python",
   "pygments_lexer": "ipython3",
   "version": "3.9.12"
  }
 },
 "nbformat": 4,
 "nbformat_minor": 5
}
